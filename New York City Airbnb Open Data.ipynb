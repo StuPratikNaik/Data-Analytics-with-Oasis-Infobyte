{
 "cells": [
  {
   "cell_type": "markdown",
   "id": "629ae681",
   "metadata": {},
   "source": [
    "# New York City Airbnb Open Data"
   ]
  },
  {
   "cell_type": "code",
   "execution_count": 1,
   "id": "e2b55f7d",
   "metadata": {},
   "outputs": [],
   "source": [
    "#Importing necessary libraries\n",
    "import pandas as pd\n",
    "import numpy as np"
   ]
  },
  {
   "cell_type": "code",
   "execution_count": 2,
   "id": "f3bc6590",
   "metadata": {},
   "outputs": [],
   "source": [
    "#load the dataset\n",
    "df = pd.read_csv(\"AB_NYC_2019.csv\")"
   ]
  },
  {
   "cell_type": "code",
   "execution_count": 5,
   "id": "fc2cf5a2",
   "metadata": {},
   "outputs": [
    {
     "name": "stdout",
     "output_type": "stream",
     "text": [
      "Basic Dataset info:\n",
      "<class 'pandas.core.frame.DataFrame'>\n",
      "RangeIndex: 48895 entries, 0 to 48894\n",
      "Data columns (total 16 columns):\n",
      " #   Column                          Non-Null Count  Dtype  \n",
      "---  ------                          --------------  -----  \n",
      " 0   id                              48895 non-null  int64  \n",
      " 1   name                            48879 non-null  object \n",
      " 2   host_id                         48895 non-null  int64  \n",
      " 3   host_name                       48874 non-null  object \n",
      " 4   neighbourhood_group             48895 non-null  object \n",
      " 5   neighbourhood                   48895 non-null  object \n",
      " 6   latitude                        48895 non-null  float64\n",
      " 7   longitude                       48895 non-null  float64\n",
      " 8   room_type                       48895 non-null  object \n",
      " 9   price                           48895 non-null  int64  \n",
      " 10  minimum_nights                  48895 non-null  int64  \n",
      " 11  number_of_reviews               48895 non-null  int64  \n",
      " 12  last_review                     38843 non-null  object \n",
      " 13  reviews_per_month               38843 non-null  float64\n",
      " 14  calculated_host_listings_count  48895 non-null  int64  \n",
      " 15  availability_365                48895 non-null  int64  \n",
      "dtypes: float64(3), int64(7), object(6)\n",
      "memory usage: 6.0+ MB\n"
     ]
    }
   ],
   "source": [
    "#Basic information about the database \n",
    "print(\"Basic Dataset info:\")\n",
    "df.info()"
   ]
  },
  {
   "cell_type": "code",
   "execution_count": 16,
   "id": "6e289bc5",
   "metadata": {},
   "outputs": [
    {
     "name": "stdout",
     "output_type": "stream",
     "text": [
      "\n",
      "Missing values:\n"
     ]
    },
    {
     "data": {
      "text/plain": [
       "id                                    0\n",
       "name                                 16\n",
       "host_id                               0\n",
       "host_name                            21\n",
       "neighbourhood_group                   0\n",
       "neighbourhood                         0\n",
       "latitude                              0\n",
       "longitude                             0\n",
       "room_type                             0\n",
       "price                                 0\n",
       "minimum_nights                        0\n",
       "number_of_reviews                     0\n",
       "last_review                       10052\n",
       "reviews_per_month                 10052\n",
       "calculated_host_listings_count        0\n",
       "availability_365                      0\n",
       "dtype: int64"
      ]
     },
     "execution_count": 16,
     "metadata": {},
     "output_type": "execute_result"
    }
   ],
   "source": [
    "#Checking for missing values\n",
    "print(\"\\nMissing values:\")\n",
    "df.isnull().sum()"
   ]
  },
  {
   "cell_type": "code",
   "execution_count": 18,
   "id": "fc12cbab",
   "metadata": {},
   "outputs": [
    {
     "name": "stdout",
     "output_type": "stream",
     "text": [
      "\n",
      "Number of duplicates in the dataset: 0\n"
     ]
    }
   ],
   "source": [
    "#Checking for duplicate rows\n",
    "print(\"\\nNumber of duplicates in the dataset:\",df.duplicated().sum())"
   ]
  },
  {
   "cell_type": "code",
   "execution_count": 26,
   "id": "7aba38d9",
   "metadata": {},
   "outputs": [],
   "source": [
    "#Data integrity "
   ]
  },
  {
   "cell_type": "code",
   "execution_count": 24,
   "id": "ace493af",
   "metadata": {},
   "outputs": [
    {
     "name": "stdout",
     "output_type": "stream",
     "text": [
      "\n",
      "Data integrity check (Range of values in critical columns):\n",
      "              price  minimum_nights  availability_365\n",
      "count  48895.000000    48895.000000      48895.000000\n",
      "mean     152.720687        7.029962        112.781327\n",
      "std      240.154170       20.510550        131.622289\n",
      "min        0.000000        1.000000          0.000000\n",
      "25%       69.000000        1.000000          0.000000\n",
      "50%      106.000000        3.000000         45.000000\n",
      "75%      175.000000        5.000000        227.000000\n",
      "max    10000.000000     1250.000000        365.000000\n"
     ]
    }
   ],
   "source": [
    "# describing numerical data for basic integrity checks\n",
    "print(\"\\nData integrity check (Range of values in critical columns):\")\n",
    "print(df[['price','minimum_nights','availability_365']].describe())"
   ]
  },
  {
   "cell_type": "code",
   "execution_count": 25,
   "id": "e7208e5f",
   "metadata": {},
   "outputs": [
    {
     "name": "stdout",
     "output_type": "stream",
     "text": [
      "\n",
      "Out-of-range values (if any):\n",
      "Empty DataFrame\n",
      "Columns: [id, name, host_id, host_name, neighbourhood_group, neighbourhood, latitude, longitude, room_type, price, minimum_nights, number_of_reviews, last_review, reviews_per_month, calculated_host_listings_count, availability_365]\n",
      "Index: []\n"
     ]
    }
   ],
   "source": [
    "# checking for out-of-range values\n",
    "outlier_check = df[(df['price']<0) | (df['minimum_nights']<0)]\n",
    "print(\"\\nOut-of-range values (if any):\")\n",
    "print(outlier_check)"
   ]
  },
  {
   "cell_type": "code",
   "execution_count": 27,
   "id": "fd784247",
   "metadata": {},
   "outputs": [],
   "source": [
    "# Missing data handling"
   ]
  },
  {
   "cell_type": "code",
   "execution_count": 28,
   "id": "08c66822",
   "metadata": {},
   "outputs": [],
   "source": [
    "#fill missing 'name' and 'host_name' with 'Unknow'\n",
    "df['name'].fillna('Unknow',inplace=True)\n",
    "df['host_name'].fillna('Unknown',inplace=True)"
   ]
  },
  {
   "cell_type": "code",
   "execution_count": 30,
   "id": "38fe3085",
   "metadata": {},
   "outputs": [],
   "source": [
    "#fill missing 'reviews_per_month' with 0(assuming no reviews)\n",
    "df['reviews_per_month'].fillna(0,inplace=True)"
   ]
  },
  {
   "cell_type": "code",
   "execution_count": 31,
   "id": "b2d91f35",
   "metadata": {},
   "outputs": [],
   "source": [
    "#fill missing 'last_review' with a placeholder\n",
    "df['last_review'].fillna('NO Reviws',inplace=True)"
   ]
  },
  {
   "cell_type": "code",
   "execution_count": 32,
   "id": "c8689409",
   "metadata": {},
   "outputs": [
    {
     "name": "stdout",
     "output_type": "stream",
     "text": [
      "\n",
      "Missing values after filling:\n",
      "id                                0\n",
      "name                              0\n",
      "host_id                           0\n",
      "host_name                         0\n",
      "neighbourhood_group               0\n",
      "neighbourhood                     0\n",
      "latitude                          0\n",
      "longitude                         0\n",
      "room_type                         0\n",
      "price                             0\n",
      "minimum_nights                    0\n",
      "number_of_reviews                 0\n",
      "last_review                       0\n",
      "reviews_per_month                 0\n",
      "calculated_host_listings_count    0\n",
      "availability_365                  0\n",
      "dtype: int64\n"
     ]
    }
   ],
   "source": [
    "#Re-check missing values\n",
    "print(\"\\nMissing values after filling:\")\n",
    "print(df.isnull().sum())"
   ]
  },
  {
   "cell_type": "code",
   "execution_count": 36,
   "id": "70db40d5",
   "metadata": {},
   "outputs": [
    {
     "name": "stdout",
     "output_type": "stream",
     "text": [
      "\n",
      "Number of duplicates after removal: 0\n"
     ]
    }
   ],
   "source": [
    "#Duplicate removal (if any duplicates are found)\n",
    "df.drop_duplicates(inplace=True)\n",
    "print(\"\\nNumber of duplicates after removal:\",df.duplicated().sum())"
   ]
  },
  {
   "cell_type": "code",
   "execution_count": 37,
   "id": "501f2540",
   "metadata": {},
   "outputs": [],
   "source": [
    "#Standardization of text dara('name and 'host_name')\n",
    "df['name']=df['name'].str.title()\n",
    "df['host_name']=df['host_name'].str.title()"
   ]
  },
  {
   "cell_type": "code",
   "execution_count": 38,
   "id": "82805840",
   "metadata": {},
   "outputs": [
    {
     "name": "stdout",
     "output_type": "stream",
     "text": [
      "\n",
      "nSample of standardized'name' and 'host_name':\n",
      "                                               name    host_name\n",
      "0                Clean & Quiet Apt Home By The Park         John\n",
      "1                             Skylit Midtown Castle     Jennifer\n",
      "2               The Village Of Harlem....New York !    Elisabeth\n",
      "3                   Cozy Entire Floor Of Brownstone  Lisaroxanne\n",
      "4  Entire Apt: Spacious Studio/Loft By Central Park        Laura\n"
     ]
    }
   ],
   "source": [
    "#verify check \n",
    "print(\"\\nnSample of standardized'name' and 'host_name':\")\n",
    "print(df[['name','host_name']].head())"
   ]
  },
  {
   "cell_type": "code",
   "execution_count": 40,
   "id": "6182b084",
   "metadata": {},
   "outputs": [],
   "source": [
    "#Outlier Detection using IQR method"
   ]
  },
  {
   "cell_type": "code",
   "execution_count": 42,
   "id": "0231fbc6",
   "metadata": {},
   "outputs": [],
   "source": [
    "#function to detect outliers\n",
    "def detect_outliers(df,column):\n",
    "    Q1 = df[column].quantile(0.25)\n",
    "    Q3 = df[column].quantile(0.75)\n",
    "    IQR = Q3 - Q1\n",
    "    lower_bound = Q1 - 1.5 * IQR\n",
    "    upper_bound = Q3 + 1.5 * IQR\n",
    "    return df[(df[column] < lower_bound) | (df[column] > upper_bound)]"
   ]
  },
  {
   "cell_type": "code",
   "execution_count": 45,
   "id": "19c32c6d",
   "metadata": {},
   "outputs": [],
   "source": [
    "# Detect outliers in 'price' and 'minimum_nights'\n",
    "price_outliers = detect_outliers(df, 'price')\n",
    "min_nights_outliers = detect_outliers(df, 'minimum_nights')"
   ]
  },
  {
   "cell_type": "code",
   "execution_count": 48,
   "id": "bb5e17ba",
   "metadata": {},
   "outputs": [],
   "source": [
    "# Output the results"
   ]
  },
  {
   "cell_type": "code",
   "execution_count": 49,
   "id": "72f70027",
   "metadata": {},
   "outputs": [
    {
     "name": "stdout",
     "output_type": "stream",
     "text": [
      "\n",
      "Price Outliers (first 5 rows):\n",
      "        id  price\n",
      "61   15396    375\n",
      "85   19601    800\n",
      "103  23686    500\n",
      "114  26933    350\n",
      "121  27659    400\n"
     ]
    }
   ],
   "source": [
    "print(\"\\nPrice Outliers (first 5 rows):\")\n",
    "print(price_outliers[['id', 'price']].head())"
   ]
  },
  {
   "cell_type": "code",
   "execution_count": 50,
   "id": "9fba7c03",
   "metadata": {},
   "outputs": [
    {
     "name": "stdout",
     "output_type": "stream",
     "text": [
      "\n",
      "Minimum Nights Outliers (first 5 rows):\n",
      "       id  minimum_nights\n",
      "6    5121              45\n",
      "14   6090              90\n",
      "29   9657              14\n",
      "36  11452              60\n",
      "45  12627              29\n"
     ]
    }
   ],
   "source": [
    "print(\"\\nMinimum Nights Outliers (first 5 rows):\")\n",
    "print(min_nights_outliers[['id', 'minimum_nights']].head())"
   ]
  },
  {
   "cell_type": "code",
   "execution_count": 52,
   "id": "f2177df2",
   "metadata": {},
   "outputs": [
    {
     "name": "stdout",
     "output_type": "stream",
     "text": [
      "\n",
      "Final Dataset Info After Cleaning:\n",
      "<class 'pandas.core.frame.DataFrame'>\n",
      "RangeIndex: 48895 entries, 0 to 48894\n",
      "Data columns (total 16 columns):\n",
      " #   Column                          Non-Null Count  Dtype  \n",
      "---  ------                          --------------  -----  \n",
      " 0   id                              48895 non-null  int64  \n",
      " 1   name                            48895 non-null  object \n",
      " 2   host_id                         48895 non-null  int64  \n",
      " 3   host_name                       48895 non-null  object \n",
      " 4   neighbourhood_group             48895 non-null  object \n",
      " 5   neighbourhood                   48895 non-null  object \n",
      " 6   latitude                        48895 non-null  float64\n",
      " 7   longitude                       48895 non-null  float64\n",
      " 8   room_type                       48895 non-null  object \n",
      " 9   price                           48895 non-null  int64  \n",
      " 10  minimum_nights                  48895 non-null  int64  \n",
      " 11  number_of_reviews               48895 non-null  int64  \n",
      " 12  last_review                     48895 non-null  object \n",
      " 13  reviews_per_month               48895 non-null  float64\n",
      " 14  calculated_host_listings_count  48895 non-null  int64  \n",
      " 15  availability_365                48895 non-null  int64  \n",
      "dtypes: float64(3), int64(7), object(6)\n",
      "memory usage: 6.0+ MB\n"
     ]
    }
   ],
   "source": [
    "#Final Check on Clean Data\n",
    "print(\"\\nFinal Dataset Info After Cleaning:\")\n",
    "df.info()"
   ]
  },
  {
   "cell_type": "code",
   "execution_count": null,
   "id": "46c3749b",
   "metadata": {},
   "outputs": [],
   "source": []
  }
 ],
 "metadata": {
  "kernelspec": {
   "display_name": "Python 3 (ipykernel)",
   "language": "python",
   "name": "python3"
  },
  "language_info": {
   "codemirror_mode": {
    "name": "ipython",
    "version": 3
   },
   "file_extension": ".py",
   "mimetype": "text/x-python",
   "name": "python",
   "nbconvert_exporter": "python",
   "pygments_lexer": "ipython3",
   "version": "3.11.5"
  }
 },
 "nbformat": 4,
 "nbformat_minor": 5
}
